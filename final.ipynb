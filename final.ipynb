{
 "cells": [
  {
   "cell_type": "markdown",
<<<<<<< HEAD
=======
   "id": "induced-architect",
>>>>>>> ee444da82c321bd0dcfc888d32819335d1ff6425
   "metadata": {},
   "source": [
    "# Pittsburgh's Next Top Neighborhood"
   ]
  },
  {
   "cell_type": "markdown",
<<<<<<< HEAD
=======
   "id": "smart-sampling",
>>>>>>> ee444da82c321bd0dcfc888d32819335d1ff6425
   "metadata": {},
   "source": [
    "## 🚗 Commutability"
   ]
  },
  {
   "cell_type": "code",
<<<<<<< HEAD
   "execution_count": 2,
=======
   "execution_count": 3,
   "id": "descending-patio",
>>>>>>> ee444da82c321bd0dcfc888d32819335d1ff6425
   "metadata": {},
   "outputs": [
    {
     "data": {
      "text/html": [
       "<div>\n",
       "<style scoped>\n",
       "    .dataframe tbody tr th:only-of-type {\n",
       "        vertical-align: middle;\n",
       "    }\n",
       "\n",
       "    .dataframe tbody tr th {\n",
       "        vertical-align: top;\n",
       "    }\n",
       "\n",
       "    .dataframe thead th {\n",
       "        text-align: right;\n",
       "    }\n",
       "</style>\n",
       "<table border=\"1\" class=\"dataframe\">\n",
       "  <thead>\n",
       "    <tr style=\"text-align: right;\">\n",
       "      <th></th>\n",
       "      <th>name</th>\n",
       "      <th>score</th>\n",
       "    </tr>\n",
       "  </thead>\n",
       "  <tbody>\n",
       "    <tr>\n",
       "      <th>0</th>\n",
       "      <td>Central Oakland</td>\n",
       "      <td>1.000000</td>\n",
       "    </tr>\n",
       "    <tr>\n",
       "      <th>1</th>\n",
       "      <td>North Oakland</td>\n",
       "      <td>0.916748</td>\n",
       "    </tr>\n",
       "    <tr>\n",
       "      <th>2</th>\n",
       "      <td>West Oakland</td>\n",
       "      <td>0.801828</td>\n",
       "    </tr>\n",
       "    <tr>\n",
       "      <th>3</th>\n",
       "      <td>Crawford-Roberts</td>\n",
       "      <td>0.475351</td>\n",
       "    </tr>\n",
       "    <tr>\n",
       "      <th>4</th>\n",
       "      <td>Strip District</td>\n",
       "      <td>0.418544</td>\n",
       "    </tr>\n",
       "    <tr>\n",
       "      <th>...</th>\n",
       "      <td>...</td>\n",
       "      <td>...</td>\n",
       "    </tr>\n",
       "    <tr>\n",
       "      <th>85</th>\n",
       "      <td>Chartiers City</td>\n",
       "      <td>0.399935</td>\n",
       "    </tr>\n",
       "    <tr>\n",
       "      <th>86</th>\n",
       "      <td>Ridgemont</td>\n",
       "      <td>0.487757</td>\n",
       "    </tr>\n",
       "    <tr>\n",
       "      <th>87</th>\n",
       "      <td>West End</td>\n",
       "      <td>0.433562</td>\n",
       "    </tr>\n",
       "    <tr>\n",
       "      <th>88</th>\n",
       "      <td>California-Kirkbride</td>\n",
       "      <td>0.594842</td>\n",
       "    </tr>\n",
       "    <tr>\n",
       "      <th>89</th>\n",
       "      <td>Glen Hazel</td>\n",
       "      <td>0.444009</td>\n",
       "    </tr>\n",
       "  </tbody>\n",
       "</table>\n",
       "<p>90 rows × 2 columns</p>\n",
       "</div>"
      ],
      "text/plain": [
       "                    name     score\n",
       "0        Central Oakland  1.000000\n",
       "1          North Oakland  0.916748\n",
       "2           West Oakland  0.801828\n",
       "3       Crawford-Roberts  0.475351\n",
       "4         Strip District  0.418544\n",
       "..                   ...       ...\n",
       "85        Chartiers City  0.399935\n",
       "86             Ridgemont  0.487757\n",
       "87              West End  0.433562\n",
       "88  California-Kirkbride  0.594842\n",
       "89            Glen Hazel  0.444009\n",
       "\n",
       "[90 rows x 2 columns]"
      ]
     },
     "execution_count": 3,
     "metadata": {},
     "output_type": "execute_result"
    }
   ],
   "source": [
    "import pandas as pd\n",
    "\n",
    "# read census data\n",
    "data = pd.read_csv(\"data/SNAP/Neighborhoods_with_SNAP_data.csv\")\n",
    "\n",
    "# make easier column names\n",
    "data['name'] = data['Neighborhood_2010_HOOD']             # neighborhood name\n",
    "data['drive'] = data['SNAP_All_csv_Commute_to_Work__D']   # drive to work alone\n",
    "data['carpool'] = data['SNAP_All_csv_Commute_to_Work__C'] # carpool/vanpool\n",
    "data['public'] = data['SNAP_All_csv_Commute_to_Work__P']  # public transit\n",
    "data['taxi'] = data['SNAP_All_csv_Commute_to_Work__T']    # taxi\n",
    "data['motor'] = data['SNAP_All_csv_Commute_to_Work__M']   # motorcycle\n",
    "data['bike'] = data['SNAP_All_csv_Commute_to_Work__B']    # bike\n",
    "data['walk'] = data['SNAP_All_csv_Commute_to_Work__W']    # walk\n",
    "data['other'] = data['SNAP_All_csv_Commute_to_Work__O']   # other\n",
    "\n",
    "# clean data\n",
    "data = data.fillna(0)\n",
    "\n",
    "# constants to determine value of method\n",
    "# best values are 1, okay are 0.5, bad or null are 0.25\n",
    "good = 1   # bike, walk\n",
    "okay = 0.5 # carpool, public transit\n",
    "bad = 0.25 # drive, taxi, motorcycle, other\n",
    "\n",
    "# convert percent value to float\n",
    "def convert(value):\n",
    "    value = str(value)\n",
    "    value = value.replace('%','')\n",
    "    return float(value)\n",
    "\n",
    "# iterate through rows, calculate commutability score\n",
    "for idx, row in data.iterrows():\n",
    "    score = convert(data.loc[idx,'bike']) + convert(data.loc[idx, 'walk']) # good methods\n",
    "    score += okay*(convert(data.loc[idx, 'carpool']) + convert(data.loc[idx, 'public'])) # okay methods\n",
    "    score += bad*(convert(data.loc[idx, 'drive']) + convert(data.loc[idx, 'taxi']) + convert(data.loc[idx, 'motor']) + convert(data.loc[idx, 'other'])) # bad methods\n",
    "    data.at[idx,'raw'] = score # set neighborhood's commutability score\n",
    "\n",
    "\n",
    "# find score using Pawel's formula\n",
    "data['score'] = data['raw']/data['raw'].max()\n",
    "\n",
    "# create results dataframe\n",
    "commute = data[['name','score']] # create dataframe\n",
    "commute = commute.sort_values(by=['name']).set_index('name') # sort and set name index\n",
    "commute # print table"
   ]
  },
  {
   "cell_type": "markdown",
   "metadata": {},
   "source": [
    "# 🌳 Trees\n",
    "The trees data ranks each neighborhood by how beneficial its trees are (in dollar value) to four different factors:\n",
    "- Stormwater Benefits\n",
    "- Property Value\n",
    "- Electricity Benefits\n",
    "- Air Quality Value"
   ]
  },
  {
   "cell_type": "code",
   "execution_count": null,
<<<<<<< HEAD
=======
   "id": "south-fortune",
>>>>>>> ee444da82c321bd0dcfc888d32819335d1ff6425
   "metadata": {},
   "outputs": [],
   "source": [
    "#import data from csv\n",
    "t = pd.read_csv(\"data/trees_data.csv\")\n",
    "trees = t.iloc[:,[48,3,15,16,17,19,20,37,38,39,47]].dropna().sort_values(\"neighborhood\") #isolate just the columns I care about into one dataframe.\n",
    "\n",
    "#Isolate each unique neighborhood\n",
    "n = trees[\"neighborhood\"].unique().tolist()\n",
    "\n",
    "#change neighborhood column in dataframe to the indicies\n",
    "for thing in n :\n",
    "    trees = trees.replace([thing], n.index(thing))\n",
    "    \n",
    "#Function to collect all of the values in a certain column for each neighborhood.\n",
    "def statsGrab(c, df) :\n",
    "    statList = []\n",
    "    stat = 0\n",
    "    index = 0\n",
    "    for r in range (len(df)) :\n",
    "        if (df.iloc[r,0] == index) :\n",
    "            stat += float(df.iloc[r,c])\n",
    "        else :\n",
    "            statList.append(stat)\n",
    "            index+=1\n",
    "            stat = float(df.iloc[r,c])\n",
    "    statList.append(stat)\n",
    "    return statList\n",
    "\n",
    "stormValue = statsGrab(2, trees) #Isolate column 2 with storm value dollar benefits\n",
    "propValue = statsGrab(4, trees) #Isolate column 4 with property value benefits\n",
    "elecValue = statsGrab(5, trees) #Isolate column 5 with electricity value benefits\n",
    "airValue = statsGrab(7, trees) #Isolates column 7 with air quality value benefits\n",
    "\n"
   ]
  }
 ],
 "metadata": {
  "kernelspec": {
   "display_name": "Python 3",
   "language": "python",
   "name": "python3"
  },
  "language_info": {
   "codemirror_mode": {
    "name": "ipython",
    "version": 3
   },
   "file_extension": ".py",
   "mimetype": "text/x-python",
   "name": "python",
   "nbconvert_exporter": "python",
   "pygments_lexer": "ipython3",
   "version": "3.8.5"
  }
 },
 "nbformat": 4,
 "nbformat_minor": 5
}

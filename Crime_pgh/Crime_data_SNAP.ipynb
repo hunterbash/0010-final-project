{
 "cells": [
  {
   "cell_type": "code",
   "execution_count": 34,
   "id": "operating-allergy",
   "metadata": {},
   "outputs": [],
   "source": [
    "import pandas as pd\n",
    "import numpy as np\n",
    "\n",
    "#import data to the variable \n",
    "dataset = pd.read_csv(\"Neighborhoods_with_SNAP_Data.csv\") # SNAP data\n",
    "\n",
    "#NEighborhoods with most major crime police reports per 100 of people\n",
    "dataset.sort_values(by ='SNAP_All_csv_Part_1_Crime_per_1',ascending=False).head(10).plot(x = \"Neighborhood_2010_HOOD\", y =[\"SNAP_All_csv_Part_1_Crime_per_1\", \"SNAP_All_csv_Part_2_Crime_per_1\"] , kind = \"bar\" )\n",
    "\n",
    "#NEighborhoods with least major crime police reports per 100 of people\n",
    "dataset.sort_values(by ='SNAP_All_csv_Part_1_Crime_per_1',ascending=True).head(10).plot(x = \"Neighborhood_2010_HOOD\", y = [\"SNAP_All_csv_Part_1_Crime_per_1\", \"SNAP_All_csv_Part_2_Crime_per_1\"], kind = \"bar\" )\n",
    "\n",
    "# We sort by major crimes only   Major crimes include Murder, Manslaughter, Rape, Assault with intent to kill, Arson, Burglary, Larceny  \n",
    "\n",
    "#we get the value with highest crime as our rock bottom for division\n",
    "column_cri_1 = dataset['SNAP_All_csv_Part_1_Crime_per_1']\n",
    "max_val_1 = column_cri_1.max()\n",
    "\n",
    "#formula = -1 * (crime in the area / highest crime in the city). This way we always get value between 0 and 1, value is negative so we can add all columns for points later \n",
    "for row in dataset['SNAP_All_csv_Part_1_Crime_per_1']:  \n",
    "    temp1 = -1 * (row / max_val_1)# * WEIGHT\n",
    "    #then add the values to the other sets evaluations"
   ]
  },
  {
   "cell_type": "code",
   "execution_count": null,
   "id": "instrumental-decision",
   "metadata": {},
   "outputs": [],
   "source": []
  },
  {
   "cell_type": "code",
   "execution_count": null,
   "id": "framed-recording",
   "metadata": {},
   "outputs": [],
   "source": []
  },
  {
   "cell_type": "code",
   "execution_count": null,
   "id": "contained-globe",
   "metadata": {},
   "outputs": [],
   "source": []
  }
 ],
 "metadata": {
  "kernelspec": {
   "display_name": "Python 3",
   "language": "python",
   "name": "python3"
  },
  "language_info": {
   "codemirror_mode": {
    "name": "ipython",
    "version": 3
   },
   "file_extension": ".py",
   "mimetype": "text/x-python",
   "name": "python",
   "nbconvert_exporter": "python",
   "pygments_lexer": "ipython3",
   "version": "3.8.5"
  }
 },
 "nbformat": 4,
 "nbformat_minor": 5
}
